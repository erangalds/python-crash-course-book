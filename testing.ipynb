{
 "cells": [
  {
   "cell_type": "code",
   "execution_count": 1,
   "metadata": {},
   "outputs": [],
   "source": [
    "def get_formatted_name(first, last):\n",
    "    \"\"\"Generate a neatly formatted full name\"\"\"\n",
    "    full_name = f\"{first} {last}\"\n",
    "\n",
    "    return full_name"
   ]
  },
  {
   "cell_type": "code",
   "execution_count": 2,
   "metadata": {},
   "outputs": [
    {
     "name": "stdout",
     "output_type": "stream",
     "text": [
      "Enter 'q' at any time to quit.\n",
      "\tNeatly formatted name: eranga de silva\n"
     ]
    }
   ],
   "source": [
    "from name_function import get_formatted_name\n",
    "\n",
    "print(\"Enter 'q' at any time to quit.\")\n",
    "\n",
    "while True:\n",
    "    first = input(\"\\nPlease give me a first name\")\n",
    "    if first == 'q':\n",
    "        break \n",
    "    \n",
    "    last = input(\"Please give me a last name :\")\n",
    "    if last == 'q':\n",
    "        break \n",
    "\n",
    "    formatted_name = get_formatted_name(first, last)\n",
    "\n",
    "    print(\n",
    "        f\"\\tNeatly formatted name: {formatted_name}\"\n",
    "    )"
   ]
  },
  {
   "cell_type": "code",
   "execution_count": 7,
   "metadata": {},
   "outputs": [
    {
     "name": "stdout",
     "output_type": "stream",
     "text": [
      "janis joplin\n"
     ]
    },
    {
     "ename": "AssertionError",
     "evalue": "",
     "output_type": "error",
     "traceback": [
      "\u001b[0;31m---------------------------------------------------------------------------\u001b[0m",
      "\u001b[0;31mAssertionError\u001b[0m                            Traceback (most recent call last)",
      "Cell \u001b[0;32mIn[7], line 10\u001b[0m\n\u001b[1;32m      6\u001b[0m     \u001b[38;5;28mprint\u001b[39m(formatted_name)\n\u001b[1;32m      7\u001b[0m     \u001b[38;5;28;01massert\u001b[39;00m formatted_name \u001b[38;5;241m==\u001b[39m \u001b[38;5;124m'\u001b[39m\u001b[38;5;124mJanis Joplin\u001b[39m\u001b[38;5;124m'\u001b[39m\n\u001b[0;32m---> 10\u001b[0m \u001b[43mtest_first_last_name\u001b[49m\u001b[43m(\u001b[49m\u001b[43m)\u001b[49m\n",
      "Cell \u001b[0;32mIn[7], line 7\u001b[0m, in \u001b[0;36mtest_first_last_name\u001b[0;34m()\u001b[0m\n\u001b[1;32m      5\u001b[0m formatted_name \u001b[38;5;241m=\u001b[39m get_formatted_name(\u001b[38;5;124m'\u001b[39m\u001b[38;5;124mjanis\u001b[39m\u001b[38;5;124m'\u001b[39m, \u001b[38;5;124m'\u001b[39m\u001b[38;5;124mjoplin\u001b[39m\u001b[38;5;124m'\u001b[39m)\n\u001b[1;32m      6\u001b[0m \u001b[38;5;28mprint\u001b[39m(formatted_name)\n\u001b[0;32m----> 7\u001b[0m \u001b[38;5;28;01massert\u001b[39;00m formatted_name \u001b[38;5;241m==\u001b[39m \u001b[38;5;124m'\u001b[39m\u001b[38;5;124mJanis Joplin\u001b[39m\u001b[38;5;124m'\u001b[39m\n",
      "\u001b[0;31mAssertionError\u001b[0m: "
     ]
    }
   ],
   "source": [
    "from name_function import get_formatted_name\n",
    "\n",
    "def test_first_last_name():\n",
    "    \"\"\"Do namems like 'Janis Joplin' work\"\"\"\n",
    "    formatted_name = get_formatted_name('janis', 'joplin')\n",
    "    print(formatted_name)\n",
    "    assert formatted_name == 'Janis Joplin'\n",
    "\n",
    "\n",
    "test_first_last_name()\n"
   ]
  }
 ],
 "metadata": {
  "kernelspec": {
   "display_name": "base",
   "language": "python",
   "name": "python3"
  },
  "language_info": {
   "codemirror_mode": {
    "name": "ipython",
    "version": 3
   },
   "file_extension": ".py",
   "mimetype": "text/x-python",
   "name": "python",
   "nbconvert_exporter": "python",
   "pygments_lexer": "ipython3",
   "version": "3.10.9"
  }
 },
 "nbformat": 4,
 "nbformat_minor": 2
}

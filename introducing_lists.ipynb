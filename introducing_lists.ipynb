{
 "cells": [
  {
   "cell_type": "markdown",
   "metadata": {},
   "source": [
    "# Introducing Lists"
   ]
  },
  {
   "cell_type": "code",
   "execution_count": 1,
   "metadata": {},
   "outputs": [
    {
     "name": "stdout",
     "output_type": "stream",
     "text": [
      "['trek', 'cannondale', 'redline', 'specialized']\n"
     ]
    }
   ],
   "source": [
    "bicycles = ['trek', 'cannondale', 'redline', 'specialized']\n",
    "print(bicycles)"
   ]
  },
  {
   "cell_type": "code",
   "execution_count": 5,
   "metadata": {},
   "outputs": [
    {
     "name": "stdout",
     "output_type": "stream",
     "text": [
      "trek\n",
      "2nd and 4th Argements\n",
      "cannondale\n",
      "specialized\n",
      "last element\n",
      "specialized\n",
      "My first bicycle was a Trek.\n"
     ]
    }
   ],
   "source": [
    "bicycles = ['trek', 'cannondale', 'redline', 'specialized']\n",
    "# To access the first item in the bicycle list we can access that with 0 as the index \n",
    "print(bicycles[0])\n",
    "\n",
    "## Get the 2nd and 4th elements\n",
    "print('2nd and 4th Argements')\n",
    "print(bicycles[1])\n",
    "print(bicycles[3])\n",
    "\n",
    "# To access the last element of the index\n",
    "print('last element')\n",
    "print(bicycles[-1])\n",
    "\n",
    "# We can use the values in a string\n",
    "message = f\"My first bicycle was a {bicycles[0].title()}.\"\n",
    "print(message)\n"
   ]
  },
  {
   "cell_type": "code",
   "execution_count": 6,
   "metadata": {},
   "outputs": [
    {
     "name": "stdout",
     "output_type": "stream",
     "text": [
      "Current List\n",
      "['honda', 'yamaha', 'suzuki']\n",
      "['ducati', 'yamaha', 'suzuki']\n"
     ]
    }
   ],
   "source": [
    "motorcycles = ['honda', 'yamaha', 'suzuki']\n",
    "print('Current List')\n",
    "print(motorcycles)\n",
    "\n",
    "# Changing the 1st element to Ducati\n",
    "motorcycles[0] = 'ducati'\n",
    "print(motorcycles)\n"
   ]
  },
  {
   "cell_type": "code",
   "execution_count": 7,
   "metadata": {},
   "outputs": [
    {
     "name": "stdout",
     "output_type": "stream",
     "text": [
      "['honda', 'yamaha', 'suzuki']\n",
      "['honda', 'yamaha', 'suzuki', 'ducati']\n"
     ]
    }
   ],
   "source": [
    "# Appending Elements to the End of the list\n",
    "motorcycles = ['honda', 'yamaha', 'suzuki']\n",
    "print(motorcycles)\n",
    "# Appending a new element to the end\n",
    "motorcycles.append('ducati')\n",
    "print(motorcycles)"
   ]
  },
  {
   "cell_type": "code",
   "execution_count": 8,
   "metadata": {},
   "outputs": [
    {
     "name": "stdout",
     "output_type": "stream",
     "text": [
      "Initial List\n",
      "[]\n",
      "After adding honda to the list\n",
      "['honda']\n",
      "After adding yamaha to the list\n",
      "['honda', 'yamaha']\n",
      "After adding suzuki to the list\n",
      "['honda', 'yamaha', 'suzuki']\n"
     ]
    }
   ],
   "source": [
    "motorcycles = []\n",
    "print('Initial List')\n",
    "print(motorcycles)\n",
    "motorcycles.append('honda')\n",
    "print('After adding honda to the list')\n",
    "print(motorcycles)\n",
    "motorcycles.append('yamaha')\n",
    "print('After adding yamaha to the list')\n",
    "print(motorcycles)\n",
    "motorcycles.append('suzuki')\n",
    "print('After adding suzuki to the list')\n",
    "print(motorcycles)\n"
   ]
  },
  {
   "cell_type": "code",
   "execution_count": 9,
   "metadata": {},
   "outputs": [
    {
     "name": "stdout",
     "output_type": "stream",
     "text": [
      "['ducati', 'honda', 'yamaha', 'suzuki']\n",
      "['ducati', 'honda', 'kawasaki', 'yamaha', 'suzuki']\n"
     ]
    }
   ],
   "source": [
    "motorcycles = ['honda', 'yamaha', 'suzuki']\n",
    "# Inserting an element at the begining of the list\n",
    "motorcycles.insert(0, 'ducati')\n",
    "print(motorcycles)\n",
    "# Inserting another element at middle\n",
    "motorcycles.insert(2, 'kawasaki')\n",
    "print(motorcycles)"
   ]
  },
  {
   "cell_type": "code",
   "execution_count": 12,
   "metadata": {},
   "outputs": [
    {
     "name": "stdout",
     "output_type": "stream",
     "text": [
      "Initial List\n",
      "['honda', 'yamaha', 'suzuki']\n",
      "['yamaha', 'suzuki']\n",
      "Initial List\n",
      "['honda', 'yamaha', 'suzuki']\n",
      "['honda', 'suzuki']\n"
     ]
    }
   ],
   "source": [
    "motorcycles = ['honda', 'yamaha', 'suzuki']\n",
    "print('Initial List')\n",
    "print(motorcycles)\n",
    "# Deleting the 1st element\n",
    "del motorcycles[0]\n",
    "print(motorcycles)\n",
    "\n",
    "\n",
    "motorcycles = ['honda', 'yamaha', 'suzuki']\n",
    "print('Initial List')\n",
    "print(motorcycles)\n",
    "# Removing the 2nd element\n",
    "del motorcycles[1]\n",
    "print(motorcycles)"
   ]
  },
  {
   "cell_type": "code",
   "execution_count": 13,
   "metadata": {},
   "outputs": [
    {
     "name": "stdout",
     "output_type": "stream",
     "text": [
      "Initial List\n",
      "['honda', 'yamaha', 'suzuki']\n",
      "Removing and item using the pop() method\n",
      "After removing the item the current list\n",
      "['honda', 'yamaha']\n",
      "The item which got removed\n",
      "suzuki\n"
     ]
    }
   ],
   "source": [
    "motorcycles = ['honda', 'yamaha', 'suzuki']\n",
    "print('Initial List')\n",
    "print(motorcycles)\n",
    "print('Removing and item using the pop() method')\n",
    "popped_motorcycle = motorcycles.pop()\n",
    "print('After removing the item the current list')\n",
    "print(motorcycles)\n",
    "print('The item which got removed')\n",
    "print(popped_motorcycle)"
   ]
  },
  {
   "cell_type": "code",
   "execution_count": 14,
   "metadata": {},
   "outputs": [
    {
     "name": "stdout",
     "output_type": "stream",
     "text": [
      "The first motorcycle I owned was a Honda.\n",
      "The second motorcycle I owned was a Yamaha.\n"
     ]
    }
   ],
   "source": [
    "motorcycles = ['honda', 'yamaha', 'suzuki']\n",
    "# Removing the 1st element\n",
    "first_owned = motorcycles.pop(0)\n",
    "print(f\"The first motorcycle I owned was a {first_owned.title()}.\")\n",
    "\n",
    "motorcycles = ['honda', 'yamaha', 'suzuki']\n",
    "# Removing the 2nd element\n",
    "first_owned = motorcycles.pop(1)\n",
    "print(f\"The second motorcycle I owned was a {first_owned.title()}.\")"
   ]
  },
  {
   "cell_type": "code",
   "execution_count": 15,
   "metadata": {},
   "outputs": [
    {
     "name": "stdout",
     "output_type": "stream",
     "text": [
      "Initial List\n",
      "['honda', 'yamaha', 'suzuki', 'ducati']\n",
      "List after removing ducati\n",
      "['honda', 'yamaha', 'suzuki']\n",
      "Initial List\n",
      "['honda', 'yamaha', 'suzuki', 'ducati']\n",
      "List after removing ducati\n",
      "['honda', 'yamaha', 'suzuki']\n",
      "\n",
      "A Ducati is too expensive for me.\n"
     ]
    }
   ],
   "source": [
    "motorcycles = ['honda', 'yamaha', 'suzuki', 'ducati']\n",
    "print('Initial List')\n",
    "print(motorcycles)\n",
    "# Removing the element ducati\n",
    "motorcycles.remove('ducati')\n",
    "print('List after removing ducati')\n",
    "print(motorcycles)\n",
    "\n",
    "\n",
    "motorcycles = ['honda', 'yamaha', 'suzuki', 'ducati']\n",
    "print('Initial List')\n",
    "print(motorcycles)\n",
    "too_expensive = 'ducati'\n",
    "motorcycles.remove(too_expensive)\n",
    "print('List after removing ducati')\n",
    "print(motorcycles)\n",
    "print(f\"\\nA {too_expensive.title()} is too expensive for me.\")"
   ]
  },
  {
   "cell_type": "code",
   "execution_count": 2,
   "metadata": {},
   "outputs": [
    {
     "name": "stdout",
     "output_type": "stream",
     "text": [
      "Original List\n",
      "['bmw', 'audi', 'toyota', 'subaru']\n",
      "After Sorting the list\n",
      "['audi', 'bmw', 'subaru', 'toyota']\n",
      "After Sorting the list in reverse\n",
      "['toyota', 'subaru', 'bmw', 'audi']\n"
     ]
    }
   ],
   "source": [
    "cars = ['bmw', 'audi', 'toyota', 'subaru']\n",
    "print('Original List')\n",
    "print(cars)\n",
    "# Sorting the cars \n",
    "cars.sort()\n",
    "print('After Sorting the list')\n",
    "print(cars)\n",
    "\n",
    "# We can also sort in the reverse order by setting the parameter to reverse=True \n",
    "# Sorting the cars \n",
    "cars.sort(reverse=True)\n",
    "print('After Sorting the list in reverse')\n",
    "print(cars)\n"
   ]
  },
  {
   "cell_type": "code",
   "execution_count": 5,
   "metadata": {},
   "outputs": [
    {
     "name": "stdout",
     "output_type": "stream",
     "text": [
      "Here is the original list:\n",
      "['bmw', 'audi', 'toyota', 'subaru']\n",
      "\n",
      "Here is the sorted list:\n",
      "['audi', 'bmw', 'subaru', 'toyota']\n",
      "\n",
      "Here is the original list again:\n",
      "['bmw', 'audi', 'toyota', 'subaru']\n",
      "\n",
      "Sorting in reverse order\n",
      "['toyota', 'subaru', 'bmw', 'audi']\n",
      "\n",
      "Here is the original list again:\n",
      "['bmw', 'audi', 'toyota', 'subaru']\n"
     ]
    }
   ],
   "source": [
    "cars = ['bmw', 'audi', 'toyota', 'subaru']\n",
    "print(\"Here is the original list:\")\n",
    "print(cars)\n",
    "print(\"\\nHere is the sorted list:\")\n",
    "print(sorted(cars))\n",
    "print(\"\\nHere is the original list again:\")\n",
    "print(cars)\n",
    "print('\\nSorting in reverse order')\n",
    "print(sorted(cars, reverse=True))\n",
    "print(\"\\nHere is the original list again:\")\n",
    "print(cars)"
   ]
  },
  {
   "cell_type": "code",
   "execution_count": 6,
   "metadata": {},
   "outputs": [
    {
     "name": "stdout",
     "output_type": "stream",
     "text": [
      "Original list\n",
      "['bmw', 'audi', 'toyota', 'subaru']\n",
      "Reorganized in reverse order\n",
      "['subaru', 'toyota', 'audi', 'bmw']\n"
     ]
    }
   ],
   "source": [
    "cars = ['bmw', 'audi', 'toyota', 'subaru']\n",
    "print('Original list')\n",
    "print(cars)\n",
    "cars.reverse()\n",
    "print('Reorganized in reverse order')\n",
    "print(cars)"
   ]
  },
  {
   "cell_type": "code",
   "execution_count": 7,
   "metadata": {},
   "outputs": [
    {
     "name": "stdout",
     "output_type": "stream",
     "text": [
      "4\n"
     ]
    }
   ],
   "source": [
    "cars = ['bmw', 'audi', 'toyota', 'subaru']\n",
    "print(len(cars))"
   ]
  },
  {
   "cell_type": "code",
   "execution_count": 10,
   "metadata": {},
   "outputs": [
    {
     "name": "stdout",
     "output_type": "stream",
     "text": [
      "alice\n",
      "david\n",
      "carolina\n",
      "\n",
      "\n",
      "Alice, that was a great trick!\n",
      "I can't wait to see your next trick, Alice.\n",
      "\n",
      "David, that was a great trick!\n",
      "I can't wait to see your next trick, David.\n",
      "\n",
      "Carolina, that was a great trick!\n",
      "I can't wait to see your next trick, Carolina.\n",
      "\n"
     ]
    }
   ],
   "source": [
    "# looping through a list using the for loop\n",
    "magicians = ['alice', 'david', 'carolina']\n",
    "for magician in magicians:\n",
    " print(magician)\n",
    "\n",
    "print('\\n')\n",
    "\n",
    "# Doing more tasks while looping through using the for loop\n",
    "# As long as the statements are indented they will be considered as part of for loop code block\n",
    "\n",
    "for magician in magicians:\n",
    " print(f\"{magician.title()}, that was a great trick!\")\n",
    " print(f\"I can't wait to see your next trick, {magician.title()}.\\n\")"
   ]
  },
  {
   "cell_type": "code",
   "execution_count": 13,
   "metadata": {},
   "outputs": [
    {
     "name": "stdout",
     "output_type": "stream",
     "text": [
      "Ranging between 1 to 5\n",
      "1\n",
      "2\n",
      "3\n",
      "4\n",
      "It stops before value 5\n",
      "Ranging between 1 to 6\n",
      "1\n",
      "2\n",
      "3\n",
      "4\n",
      "5\n"
     ]
    }
   ],
   "source": [
    "print('Ranging between 1 to 5')\n",
    "for value in range(1, 5):\n",
    " print(value)\n",
    "\n",
    "print('It stops before value 5')\n",
    "\n",
    "print('Ranging between 1 to 6')\n",
    "for value in range(1, 6):\n",
    " print(value)\n"
   ]
  },
  {
   "cell_type": "code",
   "execution_count": 14,
   "metadata": {},
   "outputs": [
    {
     "name": "stdout",
     "output_type": "stream",
     "text": [
      "Ranging between 3\n",
      "0\n",
      "1\n",
      "2\n"
     ]
    }
   ],
   "source": [
    "print('Ranging between 3')\n",
    "for value in range(3):\n",
    " print(value)"
   ]
  },
  {
   "cell_type": "code",
   "execution_count": 17,
   "metadata": {},
   "outputs": [
    {
     "name": "stdout",
     "output_type": "stream",
     "text": [
      "Generating a list of numbers between 1 to 5\n",
      "[1, 2, 3, 4, 5]\n",
      "Generating a list of even numbers using range()\n",
      "[2, 4, 6, 8, 10]\n",
      "1st 10 Square Numbers\n",
      "[1, 4, 9, 16, 25, 36, 49, 64, 81, 100]\n"
     ]
    }
   ],
   "source": [
    "print('Generating a list of numbers between 1 to 5')\n",
    "numbers = list(range(1, 6))\n",
    "print(numbers)\n",
    "\n",
    "# Generating Even Numbers\n",
    "print('Generating a list of even numbers using range()')\n",
    "even_numbers = list( range(2, 11, 2) )\n",
    "print(even_numbers)\n",
    "\n",
    "# Using range() to generate the 1st 10 square numbers\n",
    "squares = []\n",
    "for value in range(1, 11):\n",
    "   square = value ** 2\n",
    "   squares.append(square)\n",
    "\n",
    "print('1st 10 Square Numbers')\n",
    "print(squares)"
   ]
  },
  {
   "cell_type": "code",
   "execution_count": 18,
   "metadata": {},
   "outputs": [
    {
     "name": "stdout",
     "output_type": "stream",
     "text": [
      "min :  0\n",
      "max :  9\n",
      "sum :  45\n",
      "average :  4.5\n"
     ]
    }
   ],
   "source": [
    "digits = [1, 2, 3, 4, 5, 6, 7, 8, 9, 0]\n",
    "print('min : ', min(digits))\n",
    "print('max : ', max(digits))\n",
    "print('sum : ', sum(digits))\n",
    "print('average : ', sum(digits) / len(digits) )\n"
   ]
  },
  {
   "cell_type": "code",
   "execution_count": 19,
   "metadata": {},
   "outputs": [
    {
     "name": "stdout",
     "output_type": "stream",
     "text": [
      "[1, 4, 9, 16, 25, 36, 49, 64, 81, 100]\n"
     ]
    }
   ],
   "source": [
    "# Using list comprehensions\n",
    "squares = [value**2 for value in range(1, 11)]\n",
    "print(squares)\n"
   ]
  },
  {
   "cell_type": "code",
   "execution_count": 23,
   "metadata": {},
   "outputs": [
    {
     "name": "stdout",
     "output_type": "stream",
     "text": [
      "Taking the items 1 to 3rd element\n",
      "['charles', 'martina', 'michael']\n",
      "Taking 2nd to 4th items\n",
      "['martina', 'michael', 'florence']\n",
      "Ommiting starting index in the slice notation\n",
      "['charles', 'martina', 'michael', 'florence']\n",
      "Ommiting the stop index would extract from start to last element\n",
      "['michael', 'florence', 'eli']\n",
      "Taking the last three out\n",
      "['michael', 'florence', 'eli']\n"
     ]
    }
   ],
   "source": [
    "# Slicing for the 1 to 3rd element\n",
    "players = ['charles', 'martina', 'michael', 'florence', 'eli']\n",
    "print('Taking the items 1 to 3rd element')\n",
    "print(players[0:3])\n",
    "\n",
    "print('Taking 2nd to 4th items')\n",
    "print(players[1:4])\n",
    "\n",
    "# If we omit the first index then it starts from 0 index which is 1st element\n",
    "print('Ommiting starting index in the slice notation')\n",
    "print(players[:4])\n",
    "\n",
    "# If we omit the stop index then that goes till the last element\n",
    "print('Ommiting the stop index would extract from start to last element')\n",
    "print(players[2:])\n",
    "\n",
    "# Taking the last three\n",
    "print('Taking the last three out')\n",
    "print(players[-3:])"
   ]
  },
  {
   "cell_type": "code",
   "execution_count": 24,
   "metadata": {},
   "outputs": [
    {
     "name": "stdout",
     "output_type": "stream",
     "text": [
      "Here are the first three players on my team:\n",
      "Charles\n",
      "Martina\n",
      "Michael\n"
     ]
    }
   ],
   "source": [
    "players = ['charles', 'martina', 'michael', 'florence', 'eli']\n",
    "print(\"Here are the first three players on my team:\")\n",
    "for player in players[:3]:\n",
    " print(player.title())"
   ]
  },
  {
   "cell_type": "code",
   "execution_count": 27,
   "metadata": {},
   "outputs": [
    {
     "name": "stdout",
     "output_type": "stream",
     "text": [
      "My favorite foods are:\n",
      "['pizza', 'falafel', 'carrot cake']\n",
      "\n",
      "My friend's favorite foods are:\n",
      "['pizza', 'falafel', 'carrot cake']\n",
      "My New favorite foods are:\n",
      "['pizza', 'falafel', 'carrot cake', 'cannoli']\n",
      "\n",
      "My friend's new favorite foods are:\n",
      "['pizza', 'falafel', 'carrot cake', 'ice cream']\n",
      "Now trying to use the = sign to create a copy\n",
      "My favorite foods are:\n",
      "['pizza', 'falafel', 'carrot cake', 'cannoli', 'ice cream']\n",
      "\n",
      "My friend's favorite foods are:\n",
      "['pizza', 'falafel', 'carrot cake', 'cannoli', 'ice cream']\n"
     ]
    }
   ],
   "source": [
    "my_foods = ['pizza', 'falafel', 'carrot cake']\n",
    "friend_foods = my_foods[:]\n",
    "print(\"My favorite foods are:\")\n",
    "print(my_foods)\n",
    "print(\"\\nMy friend's favorite foods are:\")\n",
    "print(friend_foods)\n",
    "\n",
    "my_foods.append('cannoli')\n",
    "friend_foods.append('ice cream')\n",
    "\n",
    "print(\"My New favorite foods are:\")\n",
    "print(my_foods)\n",
    "print(\"\\nMy friend's new favorite foods are:\")\n",
    "print(friend_foods)\n",
    "\n",
    "\n",
    "# If we didn't use the slicing method. Both variable names would point to the same list. \n",
    "my_foods = ['pizza', 'falafel', 'carrot cake']\n",
    "print('Now trying to use the = sign to create a copy')\n",
    "# This doesn't work as a copy:\n",
    "friend_foods = my_foods\n",
    "my_foods.append('cannoli')\n",
    "friend_foods.append('ice cream')\n",
    "print(\"My favorite foods are:\")\n",
    "print(my_foods)\n",
    "print(\"\\nMy friend's favorite foods are:\")\n",
    "print(friend_foods)\n"
   ]
  },
  {
   "cell_type": "code",
   "execution_count": 29,
   "metadata": {},
   "outputs": [
    {
     "name": "stdout",
     "output_type": "stream",
     "text": [
      "200\n",
      "50\n"
     ]
    },
    {
     "ename": "TypeError",
     "evalue": "'tuple' object does not support item assignment",
     "output_type": "error",
     "traceback": [
      "\u001b[0;31m---------------------------------------------------------------------------\u001b[0m",
      "\u001b[0;31mTypeError\u001b[0m                                 Traceback (most recent call last)",
      "Cell \u001b[0;32mIn[29], line 7\u001b[0m\n\u001b[1;32m      4\u001b[0m \u001b[38;5;28mprint\u001b[39m(dimensions[\u001b[38;5;241m1\u001b[39m])\n\u001b[1;32m      6\u001b[0m \u001b[38;5;66;03m# Let's try to change a value of an element now\u001b[39;00m\n\u001b[0;32m----> 7\u001b[0m dimensions[\u001b[38;5;241m0\u001b[39m] \u001b[38;5;241m=\u001b[39m \u001b[38;5;241m250\u001b[39m\n",
      "\u001b[0;31mTypeError\u001b[0m: 'tuple' object does not support item assignment"
     ]
    }
   ],
   "source": [
    "# Defining a tuple\n",
    "dimensions = (200, 50)\n",
    "print(dimensions[0])\n",
    "print(dimensions[1])\n",
    "\n",
    "# Let's try to change a value of an element now\n",
    "dimensions[0] = 250"
   ]
  },
  {
   "cell_type": "code",
   "execution_count": 30,
   "metadata": {},
   "outputs": [
    {
     "name": "stdout",
     "output_type": "stream",
     "text": [
      "200\n",
      "50\n"
     ]
    }
   ],
   "source": [
    "dimensions = (200, 50)\n",
    "for dimension in dimensions:\n",
    " print(dimension)\n"
   ]
  },
  {
   "cell_type": "code",
   "execution_count": 31,
   "metadata": {},
   "outputs": [
    {
     "name": "stdout",
     "output_type": "stream",
     "text": [
      "Original dimensions:\n",
      "200\n",
      "50\n",
      "\n",
      "Modified dimensions:\n",
      "400\n",
      "100\n"
     ]
    }
   ],
   "source": [
    "dimensions = (200, 50)\n",
    "print(\"Original dimensions:\")\n",
    "for dimension in dimensions:\n",
    " print(dimension)\n",
    "dimensions = (400, 100)\n",
    "print(\"\\nModified dimensions:\")\n",
    "for dimension in dimensions:\n",
    " print(dimension)"
   ]
  },
  {
   "cell_type": "code",
   "execution_count": 32,
   "metadata": {},
   "outputs": [
    {
     "name": "stdout",
     "output_type": "stream",
     "text": [
      "Audi\n",
      "BMW\n",
      "Subaru\n",
      "Toyota\n"
     ]
    }
   ],
   "source": [
    "cars = ['audi', 'bmw', 'subaru', 'toyota']\n",
    "\n",
    "for car in cars:\n",
    "    # We convert the name to upper case is brand name is BMW\n",
    "    if car == 'bmw':\n",
    "        print(car.upper())\n",
    "    else:\n",
    "        print(car.title())"
   ]
  },
  {
   "cell_type": "code",
   "execution_count": 38,
   "metadata": {},
   "outputs": [
    {
     "name": "stdout",
     "output_type": "stream",
     "text": [
      "Check if car with value bmw is equal to bmw :  True\n",
      "Check if car with value audi is equal to bmw :  False\n",
      "Check if car with Audi as value is equal to audi :  False\n",
      "Check if car with Audi as value is equal to audi :  True\n"
     ]
    }
   ],
   "source": [
    "# Checking for equality\n",
    "car = 'bmw'\n",
    "print('Check if car with value bmw is equal to bmw : ', car == 'bmw')\n",
    "\n",
    "car = 'audi'\n",
    "print('Check if car with value audi is equal to bmw : ', car == 'bmw')\n",
    "\n",
    "# Ignoring Case when Checking for Equality\n",
    "car = 'Audi'\n",
    "print('Check if car with Audi as value is equal to audi : ', car == 'audi')\n",
    "# Now we can use the lower() method to conver the character to lower case\n",
    "print('Check if car with Audi as value is equal to audi : ', car.lower() == 'audi')\n"
   ]
  },
  {
   "cell_type": "code",
   "execution_count": 40,
   "metadata": {},
   "outputs": [
    {
     "name": "stdout",
     "output_type": "stream",
     "text": [
      "Hold the anchovies!\n"
     ]
    }
   ],
   "source": [
    "# Checking for inequality\n",
    "requested_topping = 'mushrooms'\n",
    "if requested_topping != 'anchovies':\n",
    " print(\"Hold the anchovies!\")"
   ]
  },
  {
   "cell_type": "code",
   "execution_count": 41,
   "metadata": {},
   "outputs": [
    {
     "name": "stdout",
     "output_type": "stream",
     "text": [
      "Compare whether age with a value of 18 is equal to 18 :  True\n",
      "That is not the correct answer. Please try again!\n"
     ]
    }
   ],
   "source": [
    "age = 18\n",
    "print('Compare whether age with a value of 18 is equal to 18 : ', age == 18)\n",
    "\n",
    "anwer = 17\n",
    "if anwer != 42: \n",
    "    print('That is not the correct answer. Please try again!')"
   ]
  },
  {
   "cell_type": "code",
   "execution_count": 42,
   "metadata": {},
   "outputs": [
    {
     "name": "stdout",
     "output_type": "stream",
     "text": [
      "False\n",
      "True\n"
     ]
    }
   ],
   "source": [
    "age_0 = 22\n",
    "age_1 = 18\n",
    "print(age_0 >= 21 and age_1 >= 21)\n",
    "\n",
    "age_1 = 22\n",
    "print(age_0 >= 21 and age_1 >= 21)"
   ]
  },
  {
   "cell_type": "code",
   "execution_count": 43,
   "metadata": {},
   "outputs": [
    {
     "name": "stdout",
     "output_type": "stream",
     "text": [
      "True\n",
      "True\n"
     ]
    }
   ],
   "source": [
    "age_0 = 22\n",
    "age_1 = 18\n",
    "print(age_0 >= 21 or age_1 >= 21)\n",
    "\n",
    "age_1 = 22\n",
    "print(age_0 >= 21 or age_1 >= 21)"
   ]
  },
  {
   "cell_type": "code",
   "execution_count": 44,
   "metadata": {},
   "outputs": [
    {
     "name": "stdout",
     "output_type": "stream",
     "text": [
      "mushrooms in the requested toppings\n",
      "pepperoni not in requested toppings\n"
     ]
    }
   ],
   "source": [
    "requested_toppings = ['mushrooms', 'onions', 'pineapple']\n",
    "\n",
    "if 'mushrooms' in requested_toppings:\n",
    "    print('mushrooms in the requested toppings')\n",
    "\n",
    "if 'pepperoni'not in requested_toppings:\n",
    "    print('pepperoni not in requested toppings')"
   ]
  },
  {
   "cell_type": "code",
   "execution_count": null,
   "metadata": {},
   "outputs": [],
   "source": [
    "# Syntax of the simple if statement\n",
    "if conditional_test: \n",
    "    do_something\n",
    "\n",
    "# Simple IF Statement\n",
    "age = 19\n",
    "if age >= 18:\n",
    " print(\"You are old enough to vote!\")   \n",
    "\n",
    "print('Adding tasks under the if statement\\n')\n",
    "\n",
    "if age >= 18:\n",
    " print(\"You are old enough to vote!\")\n",
    " print(\"Have you registered to vote yet?\")\n",
    "\n"
   ]
  },
  {
   "cell_type": "code",
   "execution_count": 45,
   "metadata": {},
   "outputs": [
    {
     "name": "stdout",
     "output_type": "stream",
     "text": [
      "Sorry, you are too young to vote.\n",
      "Please register to vote as soon as you turn 18!\n"
     ]
    }
   ],
   "source": [
    "age = 17\n",
    "if age >= 18:\n",
    " print(\"You are old enough to vote!\")\n",
    " print(\"Have you registered to vote yet?\")\n",
    "else:\n",
    " print(\"Sorry, you are too young to vote.\")\n",
    " print(\"Please register to vote as soon as you turn 18!\")"
   ]
  },
  {
   "cell_type": "code",
   "execution_count": 46,
   "metadata": {},
   "outputs": [
    {
     "name": "stdout",
     "output_type": "stream",
     "text": [
      "Your admission cost is $25.\n"
     ]
    }
   ],
   "source": [
    "age = 12\n",
    "if age < 4:\n",
    " print(\"Your admission cost is $0.\")\n",
    "elif age < 18:\n",
    " print(\"Your admission cost is $25.\")\n",
    "else:\n",
    " print(\"Your admission cost is $40.\")"
   ]
  },
  {
   "cell_type": "code",
   "execution_count": null,
   "metadata": {},
   "outputs": [],
   "source": [
    "age = 12\n",
    "if age < 4:\n",
    " price = 0\n",
    "elif age < 18:\n",
    " price = 25\n",
    "else:\n",
    " price = 40\n",
    "print(f\"Your admission cost is ${price}.\")"
   ]
  }
 ],
 "metadata": {
  "kernelspec": {
   "display_name": "base",
   "language": "python",
   "name": "python3"
  },
  "language_info": {
   "codemirror_mode": {
    "name": "ipython",
    "version": 3
   },
   "file_extension": ".py",
   "mimetype": "text/x-python",
   "name": "python",
   "nbconvert_exporter": "python",
   "pygments_lexer": "ipython3",
   "version": "3.10.9"
  }
 },
 "nbformat": 4,
 "nbformat_minor": 2
}

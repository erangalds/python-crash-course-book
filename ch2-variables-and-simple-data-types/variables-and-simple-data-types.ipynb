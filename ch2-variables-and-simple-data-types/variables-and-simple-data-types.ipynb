{
 "cells": [
  {
   "cell_type": "markdown",
   "metadata": {},
   "source": [
    "# Variables and Simple Data Types\n",
    "Let's look at the below simple code."
   ]
  },
  {
   "cell_type": "code",
   "execution_count": 3,
   "metadata": {},
   "outputs": [
    {
     "name": "stdout",
     "output_type": "stream",
     "text": [
      "Hello Python world!\n"
     ]
    }
   ],
   "source": [
    "print('Hello Python world!')"
   ]
  },
  {
   "cell_type": "markdown",
   "metadata": {},
   "source": [
    "## Variables\n",
    "Let's add a variable named *message*"
   ]
  },
  {
   "cell_type": "code",
   "execution_count": 1,
   "metadata": {},
   "outputs": [
    {
     "name": "stdout",
     "output_type": "stream",
     "text": [
      "Hello Python World!\n"
     ]
    }
   ],
   "source": [
    "message = 'Hello Python World!'\n",
    "print(message)"
   ]
  },
  {
   "cell_type": "markdown",
   "metadata": {},
   "source": [
    "As we saw in above example, *message* was the variable which we added. Every variable is connected to a *value*. In the previous example the *value* was 'Hello Python World!' *text*.\n",
    "\n",
    "Let's do another small change to the code now."
   ]
  },
  {
   "cell_type": "code",
   "execution_count": 4,
   "metadata": {},
   "outputs": [
    {
     "name": "stdout",
     "output_type": "stream",
     "text": [
      "Hello Python World!\n",
      "Hello Python New AI World!\n"
     ]
    }
   ],
   "source": [
    "message = 'Hello Python World!'\n",
    "print(message)\n",
    "\n",
    "message = 'Hello Python New AI World!'\n",
    "print(message)"
   ]
  },
  {
   "cell_type": "code",
   "execution_count": 6,
   "metadata": {},
   "outputs": [
    {
     "name": "stdout",
     "output_type": "stream",
     "text": [
      "eranga de silva\n",
      "Eranga De Silva\n",
      "ERANGA DE SILVA\n",
      "Eranga De Silva\n"
     ]
    }
   ],
   "source": [
    "name = 'eranga de silva'\n",
    "print(name)\n",
    "print(name.title())\n",
    "\n",
    "name = 'ERANGA DE SILVA'\n",
    "print(name)\n",
    "print(name.title())\n"
   ]
  },
  {
   "cell_type": "code",
   "execution_count": 7,
   "metadata": {},
   "outputs": [
    {
     "name": "stdout",
     "output_type": "stream",
     "text": [
      "ERANGA DE SILVA\n",
      "eranga de silva\n"
     ]
    }
   ],
   "source": [
    "name = 'eranga de silva'\n",
    "print(name.upper())\n",
    "print(name.lower())"
   ]
  },
  {
   "cell_type": "code",
   "execution_count": 9,
   "metadata": {},
   "outputs": [
    {
     "name": "stdout",
     "output_type": "stream",
     "text": [
      "eranga de silva\n"
     ]
    }
   ],
   "source": [
    "first_name = 'eranga'\n",
    "last_name = 'de silva'\n",
    "\n",
    "full_name = f\"{first_name} {last_name}\"\n",
    "print(full_name)"
   ]
  },
  {
   "cell_type": "code",
   "execution_count": 10,
   "metadata": {},
   "outputs": [
    {
     "name": "stdout",
     "output_type": "stream",
     "text": [
      "Python\n",
      "\tPython\n",
      "Languages:\n",
      "Python\n",
      "C\n",
      "JavaScript\n",
      "Languages:\n",
      "\tPython\n",
      "\tC\n",
      "\tJavaScript\n"
     ]
    }
   ],
   "source": [
    "print('Python')\n",
    "print('\\tPython')\n",
    "\n",
    "print('Languages:\\nPython\\nC\\nJavaScript')\n",
    "print(\"Languages:\\n\\tPython\\n\\tC\\n\\tJavaScript\")"
   ]
  },
  {
   "cell_type": "code",
   "execution_count": 13,
   "metadata": {},
   "outputs": [
    {
     "name": "stdout",
     "output_type": "stream",
     "text": [
      "python \n",
      "python\n",
      "python \n",
      "python\n",
      "python \n",
      "python \n",
      "python \n",
      " python \n",
      "python\n"
     ]
    }
   ],
   "source": [
    "favorite_language = 'python '\n",
    "print(favorite_language)\n",
    "\n",
    "# Removing the Whitespace on the right side\n",
    "print(favorite_language.rstrip())\n",
    "\n",
    "# Let's check the original string again\n",
    "print(favorite_language)\n",
    "\n",
    "# The original string remains the same. rstrip() doesn't removes the whitespace permantly in the original string\n",
    "# We have to reassign the output of the rstrip() method to the original string if we are to remove the whitespace permanantly\n",
    "favorite_language = favorite_language.rstrip()\n",
    "print(favorite_language)\n",
    "\n",
    "# Similar to rstrip() we can use lstrip() to remove white space from left side. \n",
    "favorite_language = 'python '\n",
    "print(favorite_language)\n",
    "print(favorite_language.lstrip())\n",
    "\n",
    "favorite_language = favorite_language.lstrip()\n",
    "print(favorite_language)\n",
    "\n",
    "# We can remove whitespace from both sides at once with strip() method. \n",
    "favorite_language =  ' python '\n",
    "print(favorite_language)\n",
    "print(favorite_language.strip())"
   ]
  },
  {
   "cell_type": "code",
   "execution_count": 14,
   "metadata": {},
   "outputs": [
    {
     "name": "stdout",
     "output_type": "stream",
     "text": [
      "https://nostarch.com\n",
      "nostarch.com\n"
     ]
    }
   ],
   "source": [
    "web_url = 'https://nostarch.com'\n",
    "print(web_url)\n",
    "domain_name = web_url.removeprefix('https://')\n",
    "print(domain_name)"
   ]
  },
  {
   "cell_type": "code",
   "execution_count": 15,
   "metadata": {},
   "outputs": [
    {
     "name": "stdout",
     "output_type": "stream",
     "text": [
      "5\n",
      "1\n",
      "6\n",
      "1.5\n"
     ]
    }
   ],
   "source": [
    "print( 2 + 3 )\n",
    "print( 3 - 2 )\n",
    "print( 2 * 3 )\n",
    "print( 3 / 2 )"
   ]
  },
  {
   "cell_type": "code",
   "execution_count": 16,
   "metadata": {},
   "outputs": [
    {
     "name": "stdout",
     "output_type": "stream",
     "text": [
      "9\n",
      "27\n"
     ]
    }
   ],
   "source": [
    "# Calculating exponents\n",
    "print( 3 ** 2 )\n",
    "print( 3 ** 3 )"
   ]
  },
  {
   "cell_type": "code",
   "execution_count": 17,
   "metadata": {},
   "outputs": [
    {
     "name": "stdout",
     "output_type": "stream",
     "text": [
      "0.2\n",
      "0.4\n",
      "0.2\n",
      "0.4\n",
      "0.30000000000000004\n",
      "0.30000000000000004\n"
     ]
    }
   ],
   "source": [
    "print( 0.1 + 0.1 )\n",
    "print( 0.2 + 0.2 )\n",
    "print( 2 * 0.1 )\n",
    "print( 2 * 0.2 )\n",
    "print( 0.2 + 0.1 )\n",
    "print( 3 * 0.1 )"
   ]
  },
  {
   "cell_type": "code",
   "execution_count": 18,
   "metadata": {},
   "outputs": [
    {
     "name": "stdout",
     "output_type": "stream",
     "text": [
      "2.0\n",
      "3.0\n",
      "6.0\n",
      "9.0\n"
     ]
    }
   ],
   "source": [
    "print( 4 / 2)\n",
    "print( 1 + 2.0 )\n",
    "print( 2 * 3.0 )\n",
    "print( 3.0  ** 2)"
   ]
  },
  {
   "cell_type": "code",
   "execution_count": 19,
   "metadata": {},
   "outputs": [
    {
     "name": "stdout",
     "output_type": "stream",
     "text": [
      "14000000000\n"
     ]
    }
   ],
   "source": [
    "universe_age = 14_000_000_000\n",
    "\n",
    "print(universe_age)"
   ]
  },
  {
   "cell_type": "code",
   "execution_count": 20,
   "metadata": {},
   "outputs": [
    {
     "name": "stdout",
     "output_type": "stream",
     "text": [
      "5\n",
      "4\n",
      "3\n"
     ]
    }
   ],
   "source": [
    "a , b, c = 5, 4, 3\n",
    "print(a)\n",
    "print(b)\n",
    "print(c)"
   ]
  },
  {
   "cell_type": "code",
   "execution_count": null,
   "metadata": {},
   "outputs": [],
   "source": []
  }
 ],
 "metadata": {
  "kernelspec": {
   "display_name": "base",
   "language": "python",
   "name": "python3"
  },
  "language_info": {
   "codemirror_mode": {
    "name": "ipython",
    "version": 3
   },
   "file_extension": ".py",
   "mimetype": "text/x-python",
   "name": "python",
   "nbconvert_exporter": "python",
   "pygments_lexer": "ipython3",
   "version": "3.10.9"
  }
 },
 "nbformat": 4,
 "nbformat_minor": 2
}
